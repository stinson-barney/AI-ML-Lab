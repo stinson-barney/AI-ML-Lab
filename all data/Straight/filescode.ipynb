{
 "cells": [
  {
   "cell_type": "code",
   "execution_count": null,
   "metadata": {},
   "outputs": [],
   "source": [
    "import os\n",
    "import numpy as np"
   ]
  },
  {
   "cell_type": "code",
   "execution_count": 1,
   "metadata": {},
   "outputs": [],
   "source": [
    "from os import listdir\n",
    "from os.path import isfile, join\n",
    "mypath = r'C:\\Users\\Admin\\Desktop\\colleger work\\Semester2\\AI&ML Lab\\Straight'\n",
    "onlyfiles = [f for f in listdir(mypath) if isfile(join(mypath, f))]"
   ]
  },
  {
   "cell_type": "code",
   "execution_count": 4,
   "metadata": {},
   "outputs": [
    {
     "name": "stdout",
     "output_type": "stream",
     "text": [
      "['._Video-10 (1).mkv', '._Video-10.mkv', '._Video-11 (1).mkv', '._Video-11.mkv', '._Video-12 (1).mkv', '._Video-12.mkv', '._Video-13 (1).mkv', '._Video-13.mkv', '._Video-14 (1).mkv', '._Video-14.mkv', '._Video-15 (1).mkv', '._Video-15.mkv', '._Video-32.mkv', '._Video-33.mkv', '._Video-34.mkv', '._Video-35.mkv', '._Video-36.mkv', '._Video-37.mkv', '._Video-38.mkv', '._Video-39.mkv', '._Video-40.mkv', '._Video-41.mkv', '._Video-52.mkv', '._Video-53.mkv', '._Video-54.mkv', '._Video-55.mkv', '._Video-56.mkv', '._Video-57.mkv', '._Video-58.mkv', '._Video-59.mkv', '._Video-6 (1).mkv', '._Video-6.mkv', '._Video-60.mkv', '._Video-61.mkv', '._Video-7 (1).mkv', '._Video-7.mkv', '._Video-72.mkv', '._Video-73.mkv', '._Video-74.mkv', '._Video-75.mkv', '._Video-76.mkv', '._Video-77.mkv', '._Video-78.mkv', '._Video-79.mkv', '._Video-8 (1).mkv', '._Video-8.mkv', '._Video-80.mkv', '._Video-81.mkv', '._Video-9 (1).mkv', '._Video-9.mkv', 'eyetrackFinal.py', 'Video-10 (1).mkv', 'Video-10.mkv', 'Video-11 (1).mkv', 'Video-11.mkv', 'Video-12 (1).mkv', 'Video-12.mkv', 'Video-13 (1).mkv', 'Video-13.mkv', 'Video-14 (1).mkv', 'Video-14.mkv', 'Video-15 (1).mkv', 'Video-15.mkv', 'Video-32.mkv', 'Video-33.mkv', 'Video-34.mkv', 'Video-35.mkv', 'Video-36.mkv', 'Video-37.mkv', 'Video-38.mkv', 'Video-39.mkv', 'Video-40.mkv', 'Video-41.mkv', 'Video-52.mkv', 'Video-53.mkv', 'Video-54.mkv', 'Video-55.mkv', 'Video-56.mkv', 'Video-57.mkv', 'Video-58.mkv', 'Video-59.mkv', 'Video-6 (1).mkv', 'Video-6.mkv', 'Video-60.mkv', 'Video-61.mkv', 'Video-7 (1).mkv', 'Video-7.mkv', 'Video-72.mkv', 'Video-73.mkv', 'Video-74.mkv', 'Video-75.mkv', 'Video-76.mkv', 'Video-77.mkv', 'Video-78.mkv', 'Video-79.mkv', 'Video-8 (1).mkv', 'Video-8.mkv', 'Video-80.mkv', 'Video-81.mkv', 'Video-9 (1).mkv', 'Video-9.mkv']\n",
      "101\n"
     ]
    }
   ],
   "source": [
    "print(onlyfiles)\n",
    "print(len(onlyfiles))"
   ]
  },
  {
   "cell_type": "code",
   "execution_count": 5,
   "metadata": {},
   "outputs": [],
   "source": [
    "newfiles = []\n",
    "for i in onlyfiles:\n",
    "    if i[0]=='V':\n",
    "        newfiles.append(i)"
   ]
  },
  {
   "cell_type": "code",
   "execution_count": 8,
   "metadata": {},
   "outputs": [
    {
     "name": "stdout",
     "output_type": "stream",
     "text": [
      "C:\\Users\\Admin\\Desktop\\colleger work\\Semester2\\AI&ML Lab\\StraightVideo-10 (1).mkv C:\\Users\\Admin\\Desktop\\colleger work\\Semester2\\AI&ML Lab\\StraightVideo-10 (1).csv\n",
      "C:\\Users\\Admin\\Desktop\\colleger work\\Semester2\\AI&ML Lab\\StraightVideo-10.mkv C:\\Users\\Admin\\Desktop\\colleger work\\Semester2\\AI&ML Lab\\StraightVideo-10.csv\n",
      "C:\\Users\\Admin\\Desktop\\colleger work\\Semester2\\AI&ML Lab\\StraightVideo-11 (1).mkv C:\\Users\\Admin\\Desktop\\colleger work\\Semester2\\AI&ML Lab\\StraightVideo-11 (1).csv\n",
      "C:\\Users\\Admin\\Desktop\\colleger work\\Semester2\\AI&ML Lab\\StraightVideo-11.mkv C:\\Users\\Admin\\Desktop\\colleger work\\Semester2\\AI&ML Lab\\StraightVideo-11.csv\n",
      "C:\\Users\\Admin\\Desktop\\colleger work\\Semester2\\AI&ML Lab\\StraightVideo-12 (1).mkv C:\\Users\\Admin\\Desktop\\colleger work\\Semester2\\AI&ML Lab\\StraightVideo-12 (1).csv\n",
      "C:\\Users\\Admin\\Desktop\\colleger work\\Semester2\\AI&ML Lab\\StraightVideo-12.mkv C:\\Users\\Admin\\Desktop\\colleger work\\Semester2\\AI&ML Lab\\StraightVideo-12.csv\n",
      "C:\\Users\\Admin\\Desktop\\colleger work\\Semester2\\AI&ML Lab\\StraightVideo-13 (1).mkv C:\\Users\\Admin\\Desktop\\colleger work\\Semester2\\AI&ML Lab\\StraightVideo-13 (1).csv\n",
      "C:\\Users\\Admin\\Desktop\\colleger work\\Semester2\\AI&ML Lab\\StraightVideo-13.mkv C:\\Users\\Admin\\Desktop\\colleger work\\Semester2\\AI&ML Lab\\StraightVideo-13.csv\n",
      "C:\\Users\\Admin\\Desktop\\colleger work\\Semester2\\AI&ML Lab\\StraightVideo-14 (1).mkv C:\\Users\\Admin\\Desktop\\colleger work\\Semester2\\AI&ML Lab\\StraightVideo-14 (1).csv\n",
      "C:\\Users\\Admin\\Desktop\\colleger work\\Semester2\\AI&ML Lab\\StraightVideo-14.mkv C:\\Users\\Admin\\Desktop\\colleger work\\Semester2\\AI&ML Lab\\StraightVideo-14.csv\n",
      "C:\\Users\\Admin\\Desktop\\colleger work\\Semester2\\AI&ML Lab\\StraightVideo-15 (1).mkv C:\\Users\\Admin\\Desktop\\colleger work\\Semester2\\AI&ML Lab\\StraightVideo-15 (1).csv\n",
      "C:\\Users\\Admin\\Desktop\\colleger work\\Semester2\\AI&ML Lab\\StraightVideo-15.mkv C:\\Users\\Admin\\Desktop\\colleger work\\Semester2\\AI&ML Lab\\StraightVideo-15.csv\n",
      "C:\\Users\\Admin\\Desktop\\colleger work\\Semester2\\AI&ML Lab\\StraightVideo-32.mkv C:\\Users\\Admin\\Desktop\\colleger work\\Semester2\\AI&ML Lab\\StraightVideo-32.csv\n",
      "C:\\Users\\Admin\\Desktop\\colleger work\\Semester2\\AI&ML Lab\\StraightVideo-33.mkv C:\\Users\\Admin\\Desktop\\colleger work\\Semester2\\AI&ML Lab\\StraightVideo-33.csv\n",
      "C:\\Users\\Admin\\Desktop\\colleger work\\Semester2\\AI&ML Lab\\StraightVideo-34.mkv C:\\Users\\Admin\\Desktop\\colleger work\\Semester2\\AI&ML Lab\\StraightVideo-34.csv\n",
      "C:\\Users\\Admin\\Desktop\\colleger work\\Semester2\\AI&ML Lab\\StraightVideo-35.mkv C:\\Users\\Admin\\Desktop\\colleger work\\Semester2\\AI&ML Lab\\StraightVideo-35.csv\n",
      "C:\\Users\\Admin\\Desktop\\colleger work\\Semester2\\AI&ML Lab\\StraightVideo-36.mkv C:\\Users\\Admin\\Desktop\\colleger work\\Semester2\\AI&ML Lab\\StraightVideo-36.csv\n",
      "C:\\Users\\Admin\\Desktop\\colleger work\\Semester2\\AI&ML Lab\\StraightVideo-37.mkv C:\\Users\\Admin\\Desktop\\colleger work\\Semester2\\AI&ML Lab\\StraightVideo-37.csv\n",
      "C:\\Users\\Admin\\Desktop\\colleger work\\Semester2\\AI&ML Lab\\StraightVideo-38.mkv C:\\Users\\Admin\\Desktop\\colleger work\\Semester2\\AI&ML Lab\\StraightVideo-38.csv\n",
      "C:\\Users\\Admin\\Desktop\\colleger work\\Semester2\\AI&ML Lab\\StraightVideo-39.mkv C:\\Users\\Admin\\Desktop\\colleger work\\Semester2\\AI&ML Lab\\StraightVideo-39.csv\n",
      "C:\\Users\\Admin\\Desktop\\colleger work\\Semester2\\AI&ML Lab\\StraightVideo-40.mkv C:\\Users\\Admin\\Desktop\\colleger work\\Semester2\\AI&ML Lab\\StraightVideo-40.csv\n",
      "C:\\Users\\Admin\\Desktop\\colleger work\\Semester2\\AI&ML Lab\\StraightVideo-41.mkv C:\\Users\\Admin\\Desktop\\colleger work\\Semester2\\AI&ML Lab\\StraightVideo-41.csv\n",
      "C:\\Users\\Admin\\Desktop\\colleger work\\Semester2\\AI&ML Lab\\StraightVideo-52.mkv C:\\Users\\Admin\\Desktop\\colleger work\\Semester2\\AI&ML Lab\\StraightVideo-52.csv\n",
      "C:\\Users\\Admin\\Desktop\\colleger work\\Semester2\\AI&ML Lab\\StraightVideo-53.mkv C:\\Users\\Admin\\Desktop\\colleger work\\Semester2\\AI&ML Lab\\StraightVideo-53.csv\n",
      "C:\\Users\\Admin\\Desktop\\colleger work\\Semester2\\AI&ML Lab\\StraightVideo-54.mkv C:\\Users\\Admin\\Desktop\\colleger work\\Semester2\\AI&ML Lab\\StraightVideo-54.csv\n",
      "C:\\Users\\Admin\\Desktop\\colleger work\\Semester2\\AI&ML Lab\\StraightVideo-55.mkv C:\\Users\\Admin\\Desktop\\colleger work\\Semester2\\AI&ML Lab\\StraightVideo-55.csv\n",
      "C:\\Users\\Admin\\Desktop\\colleger work\\Semester2\\AI&ML Lab\\StraightVideo-56.mkv C:\\Users\\Admin\\Desktop\\colleger work\\Semester2\\AI&ML Lab\\StraightVideo-56.csv\n",
      "C:\\Users\\Admin\\Desktop\\colleger work\\Semester2\\AI&ML Lab\\StraightVideo-57.mkv C:\\Users\\Admin\\Desktop\\colleger work\\Semester2\\AI&ML Lab\\StraightVideo-57.csv\n",
      "C:\\Users\\Admin\\Desktop\\colleger work\\Semester2\\AI&ML Lab\\StraightVideo-58.mkv C:\\Users\\Admin\\Desktop\\colleger work\\Semester2\\AI&ML Lab\\StraightVideo-58.csv\n",
      "C:\\Users\\Admin\\Desktop\\colleger work\\Semester2\\AI&ML Lab\\StraightVideo-59.mkv C:\\Users\\Admin\\Desktop\\colleger work\\Semester2\\AI&ML Lab\\StraightVideo-59.csv\n",
      "C:\\Users\\Admin\\Desktop\\colleger work\\Semester2\\AI&ML Lab\\StraightVideo-6 (1).mkv C:\\Users\\Admin\\Desktop\\colleger work\\Semester2\\AI&ML Lab\\StraightVideo-6 (1).csv\n",
      "C:\\Users\\Admin\\Desktop\\colleger work\\Semester2\\AI&ML Lab\\StraightVideo-6.mkv C:\\Users\\Admin\\Desktop\\colleger work\\Semester2\\AI&ML Lab\\StraightVideo-6.csv\n",
      "C:\\Users\\Admin\\Desktop\\colleger work\\Semester2\\AI&ML Lab\\StraightVideo-60.mkv C:\\Users\\Admin\\Desktop\\colleger work\\Semester2\\AI&ML Lab\\StraightVideo-60.csv\n",
      "C:\\Users\\Admin\\Desktop\\colleger work\\Semester2\\AI&ML Lab\\StraightVideo-61.mkv C:\\Users\\Admin\\Desktop\\colleger work\\Semester2\\AI&ML Lab\\StraightVideo-61.csv\n",
      "C:\\Users\\Admin\\Desktop\\colleger work\\Semester2\\AI&ML Lab\\StraightVideo-7 (1).mkv C:\\Users\\Admin\\Desktop\\colleger work\\Semester2\\AI&ML Lab\\StraightVideo-7 (1).csv\n",
      "C:\\Users\\Admin\\Desktop\\colleger work\\Semester2\\AI&ML Lab\\StraightVideo-7.mkv C:\\Users\\Admin\\Desktop\\colleger work\\Semester2\\AI&ML Lab\\StraightVideo-7.csv\n",
      "C:\\Users\\Admin\\Desktop\\colleger work\\Semester2\\AI&ML Lab\\StraightVideo-72.mkv C:\\Users\\Admin\\Desktop\\colleger work\\Semester2\\AI&ML Lab\\StraightVideo-72.csv\n",
      "C:\\Users\\Admin\\Desktop\\colleger work\\Semester2\\AI&ML Lab\\StraightVideo-73.mkv C:\\Users\\Admin\\Desktop\\colleger work\\Semester2\\AI&ML Lab\\StraightVideo-73.csv\n",
      "C:\\Users\\Admin\\Desktop\\colleger work\\Semester2\\AI&ML Lab\\StraightVideo-74.mkv C:\\Users\\Admin\\Desktop\\colleger work\\Semester2\\AI&ML Lab\\StraightVideo-74.csv\n",
      "C:\\Users\\Admin\\Desktop\\colleger work\\Semester2\\AI&ML Lab\\StraightVideo-75.mkv C:\\Users\\Admin\\Desktop\\colleger work\\Semester2\\AI&ML Lab\\StraightVideo-75.csv\n",
      "C:\\Users\\Admin\\Desktop\\colleger work\\Semester2\\AI&ML Lab\\StraightVideo-76.mkv C:\\Users\\Admin\\Desktop\\colleger work\\Semester2\\AI&ML Lab\\StraightVideo-76.csv\n",
      "C:\\Users\\Admin\\Desktop\\colleger work\\Semester2\\AI&ML Lab\\StraightVideo-77.mkv C:\\Users\\Admin\\Desktop\\colleger work\\Semester2\\AI&ML Lab\\StraightVideo-77.csv\n",
      "C:\\Users\\Admin\\Desktop\\colleger work\\Semester2\\AI&ML Lab\\StraightVideo-78.mkv C:\\Users\\Admin\\Desktop\\colleger work\\Semester2\\AI&ML Lab\\StraightVideo-78.csv\n",
      "C:\\Users\\Admin\\Desktop\\colleger work\\Semester2\\AI&ML Lab\\StraightVideo-79.mkv C:\\Users\\Admin\\Desktop\\colleger work\\Semester2\\AI&ML Lab\\StraightVideo-79.csv\n",
      "C:\\Users\\Admin\\Desktop\\colleger work\\Semester2\\AI&ML Lab\\StraightVideo-8 (1).mkv C:\\Users\\Admin\\Desktop\\colleger work\\Semester2\\AI&ML Lab\\StraightVideo-8 (1).csv\n",
      "C:\\Users\\Admin\\Desktop\\colleger work\\Semester2\\AI&ML Lab\\StraightVideo-8.mkv C:\\Users\\Admin\\Desktop\\colleger work\\Semester2\\AI&ML Lab\\StraightVideo-8.csv\n",
      "C:\\Users\\Admin\\Desktop\\colleger work\\Semester2\\AI&ML Lab\\StraightVideo-80.mkv C:\\Users\\Admin\\Desktop\\colleger work\\Semester2\\AI&ML Lab\\StraightVideo-80.csv\n",
      "C:\\Users\\Admin\\Desktop\\colleger work\\Semester2\\AI&ML Lab\\StraightVideo-81.mkv C:\\Users\\Admin\\Desktop\\colleger work\\Semester2\\AI&ML Lab\\StraightVideo-81.csv\n",
      "C:\\Users\\Admin\\Desktop\\colleger work\\Semester2\\AI&ML Lab\\StraightVideo-9 (1).mkv C:\\Users\\Admin\\Desktop\\colleger work\\Semester2\\AI&ML Lab\\StraightVideo-9 (1).csv\n",
      "C:\\Users\\Admin\\Desktop\\colleger work\\Semester2\\AI&ML Lab\\StraightVideo-9.mkv C:\\Users\\Admin\\Desktop\\colleger work\\Semester2\\AI&ML Lab\\StraightVideo-9.csv\n"
     ]
    }
   ],
   "source": [
    "for i in newfiles:\n",
    "    path = mypath+i\n",
    "    dataStoredAt = mypath+i[:-4]+'.csv'\n",
    "    print(path, dataStoredAt)\n"
   ]
  },
  {
   "cell_type": "code",
   "execution_count": 7,
   "metadata": {},
   "outputs": [
    {
     "data": {
      "text/plain": [
       "50"
      ]
     },
     "execution_count": 7,
     "metadata": {},
     "output_type": "execute_result"
    }
   ],
   "source": [
    "len(newfiles)"
   ]
  },
  {
   "cell_type": "code",
   "execution_count": null,
   "metadata": {},
   "outputs": [],
   "source": []
  }
 ],
 "metadata": {
  "kernelspec": {
   "display_name": "Python 3",
   "language": "python",
   "name": "python3"
  },
  "language_info": {
   "codemirror_mode": {
    "name": "ipython",
    "version": 3
   },
   "file_extension": ".py",
   "mimetype": "text/x-python",
   "name": "python",
   "nbconvert_exporter": "python",
   "pygments_lexer": "ipython3",
   "version": "3.8.10"
  },
  "orig_nbformat": 4
 },
 "nbformat": 4,
 "nbformat_minor": 2
}
