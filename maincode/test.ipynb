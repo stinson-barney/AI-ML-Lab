{
 "cells": [
  {
   "cell_type": "code",
   "execution_count": 40,
   "id": "754483ca",
   "metadata": {},
   "outputs": [],
   "source": [
    "import pickle\n",
    "import numpy as np\n",
    "import pandas as pd\n",
    "import math \n",
    "import os\n",
    "import glob\n",
    "\n",
    "classifier = open(\"KNN_model.pkl\",\"rb\")\n",
    "classifier = pickle.load(classifier)\n",
    "\n",
    "# Load the scaler and encoder from disk\n",
    "with open('scaler.pkl', 'rb') as f:\n",
    "    scaler = pickle.load(f)\n",
    "\n",
    "with open('encoder.pkl', 'rb') as f:\n",
    "    encoder = pickle.load(f)"
   ]
  },
  {
   "cell_type": "code",
   "execution_count": 28,
   "id": "6fd224ed",
   "metadata": {},
   "outputs": [],
   "source": [
    "folders = ['\\Test']\n",
    "colnum = 476\n",
    "merged_df = pd.DataFrame(columns = range(0,51))"
   ]
  },
  {
   "cell_type": "code",
   "execution_count": 29,
   "id": "12e58f20",
   "metadata": {},
   "outputs": [
    {
     "name": "stderr",
     "output_type": "stream",
     "text": [
      "2023-04-07 18:58:33,074 [11900] WARNING  py.warnings:109: [JupyterRequire] C:\\Users\\nikhi\\AppData\\Local\\Temp\\ipykernel_11900\\2931651301.py:39: FutureWarning: The behavior of `series[i:j]` with an integer-dtype index is deprecated. In a future version, this will be treated as *label-based* indexing, consistent with e.g. `series[i]` lookups. To retain the old behavior, use `series.iloc[i:j]`. To get the future behavior, use `series.loc[i:j]`.\n",
      "  temp_1=temp[-50:].copy()\n",
      "\n"
     ]
    }
   ],
   "source": [
    "for folder in folders:\n",
    "    path = os.getcwd() + folder\n",
    "    csv_files = glob.glob(os.path.join(path, \"*.csv\"))\n",
    "    \n",
    "    for file in csv_files:\n",
    "        df = pd.read_csv(file, header=None)\n",
    "        prev_row=[]\n",
    "        dist=[]\n",
    "        \n",
    "        for i in range(0, colnum+1):\n",
    "            j=0\n",
    "            if(df.shape[0]-1 <= i): #if records are less then append 0\n",
    "                x=0\n",
    "                y=0\n",
    "            else:\n",
    "                for row in df.iloc[i,:]: #get x and y from row\n",
    "                    if(j==0):\n",
    "                        x = row\n",
    "                    if(j==1):\n",
    "                        y= row\n",
    "                    j+=1\n",
    "\n",
    "            if prev_row: \n",
    "                if(x==0 and y==0): # if there is no record left then distance =0\n",
    "                    distance=0;\n",
    "                else:\n",
    "                    distance = round(math.sqrt(((x - prev_row[0])**2) + ((y-prev_row[1])**2)),2) #Euclidean distance\n",
    "                    distance= round(distance*distance,0)\n",
    "                dist.append(distance)\n",
    "                prev_row.clear() #update previous row\n",
    "                prev_row.append(x)\n",
    "                prev_row.append(y) \n",
    "            else:\n",
    "                prev_row.append(x)\n",
    "                prev_row.append(y)\n",
    "        \n",
    "        temp = pd.Series(x for x in dist) #convert it to series to append to dataframe\n",
    "        temp = temp.sort_values()\n",
    "        temp_1=temp[-50:].copy()\n",
    "        temp_1 = temp_1.reset_index(drop=True)\n",
    "        \n",
    "        filecolname = str(temp_1.shape[0])\n",
    "            \n",
    "        \n",
    "        temp_1[filecolname] = file[-20:]\n",
    "        \n",
    "        merged_df = pd.concat([merged_df,temp_1.to_frame().T], axis=0, ignore_index=True)"
   ]
  },
  {
   "cell_type": "code",
   "execution_count": 31,
   "id": "169fb0c8",
   "metadata": {},
   "outputs": [],
   "source": [
    "merged_df.drop([50],axis=1, inplace=True)"
   ]
  },
  {
   "cell_type": "code",
   "execution_count": 32,
   "id": "1aeef1d3",
   "metadata": {},
   "outputs": [
    {
     "data": {
      "text/html": [
       "<div>\n",
       "<style scoped>\n",
       "    .dataframe tbody tr th:only-of-type {\n",
       "        vertical-align: middle;\n",
       "    }\n",
       "\n",
       "    .dataframe tbody tr th {\n",
       "        vertical-align: top;\n",
       "    }\n",
       "\n",
       "    .dataframe thead th {\n",
       "        text-align: right;\n",
       "    }\n",
       "</style>\n",
       "<table border=\"1\" class=\"dataframe\">\n",
       "  <thead>\n",
       "    <tr style=\"text-align: right;\">\n",
       "      <th></th>\n",
       "      <th>0</th>\n",
       "      <th>1</th>\n",
       "      <th>2</th>\n",
       "      <th>3</th>\n",
       "      <th>4</th>\n",
       "      <th>5</th>\n",
       "      <th>6</th>\n",
       "      <th>7</th>\n",
       "      <th>8</th>\n",
       "      <th>9</th>\n",
       "      <th>...</th>\n",
       "      <th>41</th>\n",
       "      <th>42</th>\n",
       "      <th>43</th>\n",
       "      <th>44</th>\n",
       "      <th>45</th>\n",
       "      <th>46</th>\n",
       "      <th>47</th>\n",
       "      <th>48</th>\n",
       "      <th>49</th>\n",
       "      <th>50</th>\n",
       "    </tr>\n",
       "  </thead>\n",
       "  <tbody>\n",
       "    <tr>\n",
       "      <th>0</th>\n",
       "      <td>173889.0</td>\n",
       "      <td>174290.0</td>\n",
       "      <td>174290.0</td>\n",
       "      <td>174632.0</td>\n",
       "      <td>174632.0</td>\n",
       "      <td>174883.0</td>\n",
       "      <td>174916.0</td>\n",
       "      <td>175033.0</td>\n",
       "      <td>175511.0</td>\n",
       "      <td>175511.0</td>\n",
       "      <td>...</td>\n",
       "      <td>186935.0</td>\n",
       "      <td>187940.0</td>\n",
       "      <td>194393.0</td>\n",
       "      <td>195214.0</td>\n",
       "      <td>195214.0</td>\n",
       "      <td>195214.0</td>\n",
       "      <td>195532.0</td>\n",
       "      <td>195851.0</td>\n",
       "      <td>195851.0</td>\n",
       "      <td>Test\\Video-2 (2).csv</td>\n",
       "    </tr>\n",
       "  </tbody>\n",
       "</table>\n",
       "<p>1 rows × 51 columns</p>\n",
       "</div>"
      ],
      "text/plain": [
       "          0         1         2         3         4         5         6  \\\n",
       "0  173889.0  174290.0  174290.0  174632.0  174632.0  174883.0  174916.0   \n",
       "\n",
       "          7         8         9  ...        41        42        43        44  \\\n",
       "0  175033.0  175511.0  175511.0  ...  186935.0  187940.0  194393.0  195214.0   \n",
       "\n",
       "         45        46        47        48        49                    50  \n",
       "0  195214.0  195214.0  195532.0  195851.0  195851.0  Test\\Video-2 (2).csv  \n",
       "\n",
       "[1 rows x 51 columns]"
      ]
     },
     "execution_count": 32,
     "metadata": {},
     "output_type": "execute_result"
    }
   ],
   "source": [
    "merged_df"
   ]
  },
  {
   "cell_type": "code",
   "execution_count": 33,
   "id": "0f963c67",
   "metadata": {},
   "outputs": [],
   "source": [
    "data_df = merged_df.iloc[:,:-1]"
   ]
  },
  {
   "cell_type": "markdown",
   "id": "c49f738f",
   "metadata": {},
   "source": [
    "## Scaling"
   ]
  },
  {
   "cell_type": "code",
   "execution_count": 36,
   "id": "c2e9b571",
   "metadata": {},
   "outputs": [],
   "source": [
    "X_test = scaler.transform(data_df)"
   ]
  },
  {
   "cell_type": "markdown",
   "id": "f4a96cce",
   "metadata": {},
   "source": [
    "## Predicting"
   ]
  },
  {
   "cell_type": "code",
   "execution_count": 41,
   "id": "09cd2491",
   "metadata": {},
   "outputs": [],
   "source": [
    "y_pred = classifier.predict(X_test)"
   ]
  },
  {
   "cell_type": "markdown",
   "id": "6f678382",
   "metadata": {},
   "source": [
    "## Prediction"
   ]
  },
  {
   "cell_type": "code",
   "execution_count": 43,
   "id": "a4af307b",
   "metadata": {},
   "outputs": [
    {
     "name": "stdout",
     "output_type": "stream",
     "text": [
      "['Dyslexia']\n"
     ]
    }
   ],
   "source": [
    "result = encoder.inverse_transform(y_pred)\n",
    "print(result)"
   ]
  }
 ],
 "metadata": {
  "kernelspec": {
   "display_name": "Python 3 (ipykernel)",
   "language": "python",
   "name": "python3"
  },
  "language_info": {
   "codemirror_mode": {
    "name": "ipython",
    "version": 3
   },
   "file_extension": ".py",
   "mimetype": "text/x-python",
   "name": "python",
   "nbconvert_exporter": "python",
   "pygments_lexer": "ipython3",
   "version": "3.10.7"
  }
 },
 "nbformat": 4,
 "nbformat_minor": 5
}
