{
 "cells": [
  {
   "cell_type": "code",
   "execution_count": 7,
   "id": "06f3b9da",
   "metadata": {},
   "outputs": [],
   "source": [
    "import numpy as np\n",
    "import pandas as pd\n",
    "import math \n",
    "import os\n",
    "import glob"
   ]
  },
  {
   "cell_type": "code",
   "execution_count": 8,
   "id": "93220f35",
   "metadata": {},
   "outputs": [],
   "source": [
    "size_df = pd.DataFrame(columns = ['Dyslexic','count'])"
   ]
  },
  {
   "cell_type": "code",
   "execution_count": 9,
   "id": "6709c627",
   "metadata": {},
   "outputs": [],
   "source": [
    "folders = ['\\D', '\\(NonD)']"
   ]
  },
  {
   "cell_type": "code",
   "execution_count": 10,
   "id": "acd5033c",
   "metadata": {},
   "outputs": [],
   "source": [
    "for folder in folders:\n",
    "    path = os.getcwd() + folder\n",
    "    csv_files = glob.glob(os.path.join(path, \"*.csv\"))\n",
    "    \n",
    "    for file in csv_files:\n",
    "        df = pd.read_csv(file, header=None)\n",
    "        temp = pd.DataFrame(data=[[file[-10:],df.shape[0]]], columns=['Dyslexic','count'])\n",
    "        size_df = pd.concat([size_df, temp], ignore_index=True)"
   ]
  },
  {
   "cell_type": "code",
   "execution_count": 11,
   "id": "aa81da26",
   "metadata": {},
   "outputs": [
    {
     "data": {
      "text/html": [
       "<div>\n",
       "<style scoped>\n",
       "    .dataframe tbody tr th:only-of-type {\n",
       "        vertical-align: middle;\n",
       "    }\n",
       "\n",
       "    .dataframe tbody tr th {\n",
       "        vertical-align: top;\n",
       "    }\n",
       "\n",
       "    .dataframe thead th {\n",
       "        text-align: right;\n",
       "    }\n",
       "</style>\n",
       "<table border=\"1\" class=\"dataframe\">\n",
       "  <thead>\n",
       "    <tr style=\"text-align: right;\">\n",
       "      <th></th>\n",
       "      <th>Dyslexic</th>\n",
       "      <th>count</th>\n",
       "    </tr>\n",
       "  </thead>\n",
       "  <tbody>\n",
       "    <tr>\n",
       "      <th>0</th>\n",
       "      <td>PM #2.csv</td>\n",
       "      <td>570</td>\n",
       "    </tr>\n",
       "    <tr>\n",
       "      <th>1</th>\n",
       "      <td>.03 PM.csv</td>\n",
       "      <td>504</td>\n",
       "    </tr>\n",
       "    <tr>\n",
       "      <th>2</th>\n",
       "      <td>PM #2.csv</td>\n",
       "      <td>394</td>\n",
       "    </tr>\n",
       "    <tr>\n",
       "      <th>3</th>\n",
       "      <td>PM #3.csv</td>\n",
       "      <td>437</td>\n",
       "    </tr>\n",
       "    <tr>\n",
       "      <th>4</th>\n",
       "      <td>.04 PM.csv</td>\n",
       "      <td>437</td>\n",
       "    </tr>\n",
       "    <tr>\n",
       "      <th>...</th>\n",
       "      <td>...</td>\n",
       "      <td>...</td>\n",
       "    </tr>\n",
       "    <tr>\n",
       "      <th>194</th>\n",
       "      <td>deo-67.csv</td>\n",
       "      <td>402</td>\n",
       "    </tr>\n",
       "    <tr>\n",
       "      <th>195</th>\n",
       "      <td>deo-68.csv</td>\n",
       "      <td>403</td>\n",
       "    </tr>\n",
       "    <tr>\n",
       "      <th>196</th>\n",
       "      <td>deo-69.csv</td>\n",
       "      <td>343</td>\n",
       "    </tr>\n",
       "    <tr>\n",
       "      <th>197</th>\n",
       "      <td>deo-70.csv</td>\n",
       "      <td>382</td>\n",
       "    </tr>\n",
       "    <tr>\n",
       "      <th>198</th>\n",
       "      <td>deo-71.csv</td>\n",
       "      <td>257</td>\n",
       "    </tr>\n",
       "  </tbody>\n",
       "</table>\n",
       "<p>199 rows × 2 columns</p>\n",
       "</div>"
      ],
      "text/plain": [
       "       Dyslexic count\n",
       "0     PM #2.csv   570\n",
       "1    .03 PM.csv   504\n",
       "2     PM #2.csv   394\n",
       "3     PM #3.csv   437\n",
       "4    .04 PM.csv   437\n",
       "..          ...   ...\n",
       "194  deo-67.csv   402\n",
       "195  deo-68.csv   403\n",
       "196  deo-69.csv   343\n",
       "197  deo-70.csv   382\n",
       "198  deo-71.csv   257\n",
       "\n",
       "[199 rows x 2 columns]"
      ]
     },
     "execution_count": 11,
     "metadata": {},
     "output_type": "execute_result"
    }
   ],
   "source": [
    "size_df"
   ]
  },
  {
   "cell_type": "code",
   "execution_count": 12,
   "id": "f8958d85",
   "metadata": {},
   "outputs": [],
   "source": [
    "size_df.to_csv('size_new.csv',index=False)"
   ]
  },
  {
   "cell_type": "code",
   "execution_count": null,
   "id": "183067fa",
   "metadata": {},
   "outputs": [],
   "source": []
  },
  {
   "cell_type": "code",
   "execution_count": null,
   "id": "d7b208ed",
   "metadata": {},
   "outputs": [],
   "source": []
  }
 ],
 "metadata": {
  "kernelspec": {
   "display_name": "Python 3 (ipykernel)",
   "language": "python",
   "name": "python3"
  },
  "language_info": {
   "codemirror_mode": {
    "name": "ipython",
    "version": 3
   },
   "file_extension": ".py",
   "mimetype": "text/x-python",
   "name": "python",
   "nbconvert_exporter": "python",
   "pygments_lexer": "ipython3",
   "version": "3.10.7"
  }
 },
 "nbformat": 4,
 "nbformat_minor": 5
}
